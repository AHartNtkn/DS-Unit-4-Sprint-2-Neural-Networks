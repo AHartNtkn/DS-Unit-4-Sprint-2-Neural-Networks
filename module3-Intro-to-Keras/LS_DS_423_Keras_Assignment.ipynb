{
 "cells": [
  {
   "cell_type": "markdown",
   "metadata": {
    "colab_type": "text",
    "id": "pBQsZEJmubLs"
   },
   "source": [
    "<img align=\"left\" src=\"https://lever-client-logos.s3.amazonaws.com/864372b1-534c-480e-acd5-9711f850815c-1524247202159.png\" width=200>\n",
    "<br></br>\n",
    "\n",
    "# Neural Network Framework (Keras)\n",
    "\n",
    "## *Data Science Unit 4 Sprint 2 Assignmnet 3*\n",
    "\n",
    "## Use the Keras Library to build a Multi-Layer Perceptron Model on the Boston Housing dataset\n",
    "\n",
    "- The Boston Housing dataset comes with the Keras library so use Keras to import it into your notebook. \n",
    "- Normalize the data (all features should have roughly the same scale)\n",
    "- Import the type of model and layers that you will need from Keras.\n",
    "- Instantiate a model object and use `model.add()` to add layers to your model\n",
    "- Since this is a regression model you will have a single output node in the final layer.\n",
    "- Use activation functions that are appropriate for this task\n",
    "- Compile your model\n",
    "- Fit your model and report its accuracy in terms of Mean Squared Error\n",
    "- Use the history object that is returned from model.fit to make graphs of the model's loss or train/validation accuracies by epoch. \n",
    "- Run this same data through a linear regression model. Which achieves higher accuracy?\n",
    "- Do a little bit of feature engineering and see how that affects your neural network model. (you will need to change your model to accept more inputs)\n",
    "- After feature engineering, which model sees a greater accuracy boost due to the new features?"
   ]
  },
  {
   "cell_type": "code",
   "execution_count": 141,
   "metadata": {},
   "outputs": [],
   "source": [
    "import numpy as np"
   ]
  },
  {
   "cell_type": "code",
   "execution_count": 9,
   "metadata": {},
   "outputs": [],
   "source": [
    "from tensorflow.keras.datasets import boston_housing"
   ]
  },
  {
   "cell_type": "code",
   "execution_count": 156,
   "metadata": {},
   "outputs": [],
   "source": [
    "(x_train, y_train), (x_test, y_test) = boston_housing.load_data()"
   ]
  },
  {
   "cell_type": "code",
   "execution_count": 157,
   "metadata": {},
   "outputs": [],
   "source": [
    "from sklearn.preprocessing import MinMaxScaler\n",
    "\n",
    "# Scale training and test data\n",
    "mms = MinMaxScaler()\n",
    "x_train = mms.fit_transform(x_train)\n",
    "x_test = mms.transform(x_test)"
   ]
  },
  {
   "cell_type": "code",
   "execution_count": 18,
   "metadata": {},
   "outputs": [],
   "source": [
    "from tensorflow.keras.models import Sequential\n",
    "from tensorflow.keras.layers import Dense, Dropout"
   ]
  },
  {
   "cell_type": "code",
   "execution_count": 129,
   "metadata": {},
   "outputs": [
    {
     "name": "stdout",
     "output_type": "stream",
     "text": [
      "Model: \"sequential_19\"\n",
      "_________________________________________________________________\n",
      "Layer (type)                 Output Shape              Param #   \n",
      "=================================================================\n",
      "dense_38 (Dense)             (None, 6)                 84        \n",
      "_________________________________________________________________\n",
      "dense_39 (Dense)             (None, 6)                 42        \n",
      "_________________________________________________________________\n",
      "dense_40 (Dense)             (None, 6)                 42        \n",
      "_________________________________________________________________\n",
      "dense_41 (Dense)             (None, 1)                 7         \n",
      "=================================================================\n",
      "Total params: 175\n",
      "Trainable params: 175\n",
      "Non-trainable params: 0\n",
      "_________________________________________________________________\n"
     ]
    }
   ],
   "source": [
    "b_h_model = Sequential()\n",
    "\n",
    "b_h_model.add(Dense(6, input_dim=13, activation='relu'))\n",
    "\n",
    "b_h_model.add(Dense(6, activation='relu'))\n",
    "\n",
    "b_h_model.add(Dense(6, activation='relu'))\n",
    "\n",
    "b_h_model.add(Dense(1, activation='relu'))\n",
    "\n",
    "b_h_model.compile(loss='mean_squared_error',\n",
    "                  optimizer='adam')\n",
    "\n",
    "b_h_model.summary()"
   ]
  },
  {
   "cell_type": "code",
   "execution_count": 29,
   "metadata": {},
   "outputs": [
    {
     "data": {
      "text/plain": [
       "(404, 13)"
      ]
     },
     "execution_count": 29,
     "metadata": {},
     "output_type": "execute_result"
    }
   ],
   "source": [
    "x_train.shape"
   ]
  },
  {
   "cell_type": "code",
   "execution_count": 130,
   "metadata": {},
   "outputs": [],
   "source": [
    "bh_hist = b_h_model.fit(x_train, y_train, epochs=500, validation_split=0, validation_data=(x_test, y_test), verbose=0)"
   ]
  },
  {
   "cell_type": "code",
   "execution_count": 47,
   "metadata": {},
   "outputs": [
    {
     "data": {
      "text/plain": [
       "dict_keys(['loss', 'val_loss'])"
      ]
     },
     "execution_count": 47,
     "metadata": {},
     "output_type": "execute_result"
    }
   ],
   "source": [
    "hist.history.keys()"
   ]
  },
  {
   "cell_type": "code",
   "execution_count": 50,
   "metadata": {},
   "outputs": [],
   "source": [
    "import matplotlib.pyplot as plt"
   ]
  },
  {
   "cell_type": "code",
   "execution_count": 131,
   "metadata": {},
   "outputs": [
    {
     "data": {
      "image/png": "[encoded data removed]",
      "text/plain": [
       "<Figure size 432x288 with 1 Axes>"
      ]
     },
     "metadata": {
      "needs_background": "light"
     },
     "output_type": "display_data"
    }
   ],
   "source": [
    "ys = bh_hist.history['loss']\n",
    "xs = range(len(ys))\n",
    "plt.plot(xs, ys, label='Training MSE')\n",
    "\n",
    "ys = bh_hist.history['val_loss']\n",
    "plt.plot(xs, ys, label='Validation MSE')\n",
    "\n",
    "\n",
    "plt.legend(loc='upper right')\n",
    "\n",
    "plt.title(\"MSE Loss vs epoch\")\n",
    "plt.show()"
   ]
  },
  {
   "cell_type": "code",
   "execution_count": 59,
   "metadata": {
    "colab": {},
    "colab_type": "code",
    "id": "8NLTAR87uYJ-"
   },
   "outputs": [],
   "source": [
    "from sklearn.linear_model import LinearRegression\n",
    "from sklearn.metrics import mean_squared_error"
   ]
  },
  {
   "cell_type": "code",
   "execution_count": 57,
   "metadata": {},
   "outputs": [],
   "source": [
    "b_h_lr = LinearRegression()"
   ]
  },
  {
   "cell_type": "code",
   "execution_count": 58,
   "metadata": {},
   "outputs": [
    {
     "data": {
      "text/plain": [
       "LinearRegression(copy_X=True, fit_intercept=True, n_jobs=None,\n",
       "         normalize=False)"
      ]
     },
     "execution_count": 58,
     "metadata": {},
     "output_type": "execute_result"
    }
   ],
   "source": [
    "b_h_lr.fit(x_train, y_train)"
   ]
  },
  {
   "cell_type": "code",
   "execution_count": 65,
   "metadata": {},
   "outputs": [
    {
     "name": "stdout",
     "output_type": "stream",
     "text": [
      "Linear Regression Training MSE:  22.00480083834814\n",
      "Neural Network Training MSE:  10.3877208407406\n",
      "Linear Regression Test MSE:  23.19559925642294\n",
      "Neural Network Test MSE:  30.429734792309524\n"
     ]
    }
   ],
   "source": [
    "print(\"Linear Regression Training MSE: \", mean_squared_error(b_h_lr.predict(x_train), y_train))\n",
    "print(\"Neural Network Training MSE: \", mean_squared_error(b_h_model.predict(x_train), y_train))\n",
    "print(\"Linear Regression Test MSE: \", mean_squared_error(b_h_lr.predict(x_test), y_test))\n",
    "print(\"Neural Network Test MSE: \", mean_squared_error(b_h_model.predict(x_test), y_test))"
   ]
  },
  {
   "cell_type": "markdown",
   "metadata": {},
   "source": [
    "Their performance is fairly similar, though it seems the neural network has over-fitted, slightly."
   ]
  },
  {
   "cell_type": "markdown",
   "metadata": {},
   "source": [
    "I have no idea what sort of feature engineering is expected. I decided to add an extra column corresponding to 10 nearest neigbors."
   ]
  },
  {
   "cell_type": "code",
   "execution_count": 132,
   "metadata": {},
   "outputs": [],
   "source": [
    "from sklearn.neighbors import KNeighborsRegressor "
   ]
  },
  {
   "cell_type": "code",
   "execution_count": 133,
   "metadata": {},
   "outputs": [
    {
     "data": {
      "text/plain": [
       "KNeighborsRegressor(algorithm='auto', leaf_size=30, metric='minkowski',\n",
       "          metric_params=None, n_jobs=None, n_neighbors=10, p=2,\n",
       "          weights='uniform')"
      ]
     },
     "execution_count": 133,
     "metadata": {},
     "output_type": "execute_result"
    }
   ],
   "source": [
    "neigh = KNeighborsRegressor(n_neighbors=10)\n",
    "neigh.fit(x_train, y_train)"
   ]
  },
  {
   "cell_type": "code",
   "execution_count": 158,
   "metadata": {},
   "outputs": [],
   "source": [
    "x_train = np.append(x_train.T, [neigh.predict(x_train)], axis=0).T\n",
    "x_test = np.append(x_test.T, [neigh.predict(x_test)], axis=0).T"
   ]
  },
  {
   "cell_type": "code",
   "execution_count": 164,
   "metadata": {},
   "outputs": [
    {
     "name": "stdout",
     "output_type": "stream",
     "text": [
      "Model: \"sequential_21\"\n",
      "_________________________________________________________________\n",
      "Layer (type)                 Output Shape              Param #   \n",
      "=================================================================\n",
      "dense_46 (Dense)             (None, 6)                 90        \n",
      "_________________________________________________________________\n",
      "dense_47 (Dense)             (None, 6)                 42        \n",
      "_________________________________________________________________\n",
      "dense_48 (Dense)             (None, 6)                 42        \n",
      "_________________________________________________________________\n",
      "dense_49 (Dense)             (None, 1)                 7         \n",
      "=================================================================\n",
      "Total params: 181\n",
      "Trainable params: 181\n",
      "Non-trainable params: 0\n",
      "_________________________________________________________________\n"
     ]
    }
   ],
   "source": [
    "b_h_model = Sequential()\n",
    "\n",
    "b_h_model.add(Dense(6, input_dim=14, activation='relu'))\n",
    "\n",
    "b_h_model.add(Dense(6, activation='relu'))\n",
    "\n",
    "b_h_model.add(Dense(6, activation='relu'))\n",
    "\n",
    "b_h_model.add(Dense(1, activation='relu'))\n",
    "\n",
    "b_h_model.compile(loss='mean_squared_error',\n",
    "                  optimizer='adam')\n",
    "\n",
    "b_h_model.summary()"
   ]
  },
  {
   "cell_type": "code",
   "execution_count": 165,
   "metadata": {},
   "outputs": [],
   "source": [
    "bh_hist = b_h_model.fit(x_train, y_train, epochs=500, validation_split=0, validation_data=(x_test, y_test), verbose=0)"
   ]
  },
  {
   "cell_type": "code",
   "execution_count": 166,
   "metadata": {},
   "outputs": [
    {
     "data": {
      "image/png": "[encoded data removed]",
      "text/plain": [
       "<Figure size 432x288 with 1 Axes>"
      ]
     },
     "metadata": {
      "needs_background": "light"
     },
     "output_type": "display_data"
    }
   ],
   "source": [
    "ys = bh_hist.history['loss']\n",
    "xs = range(len(ys))\n",
    "plt.plot(xs, ys, label='Training MSE')\n",
    "\n",
    "ys = bh_hist.history['val_loss']\n",
    "plt.plot(xs, ys, label='Validation MSE')\n",
    "\n",
    "\n",
    "plt.legend(loc='upper right')\n",
    "\n",
    "plt.title(\"MSE Loss vs epoch\")\n",
    "plt.show()"
   ]
  },
  {
   "cell_type": "code",
   "execution_count": 161,
   "metadata": {},
   "outputs": [
    {
     "data": {
      "text/plain": [
       "LinearRegression(copy_X=True, fit_intercept=True, n_jobs=None,\n",
       "         normalize=False)"
      ]
     },
     "execution_count": 161,
     "metadata": {},
     "output_type": "execute_result"
    }
   ],
   "source": [
    "b_h_lr.fit(x_train, y_train)"
   ]
  },
  {
   "cell_type": "code",
   "execution_count": 167,
   "metadata": {},
   "outputs": [
    {
     "name": "stdout",
     "output_type": "stream",
     "text": [
      "Linear Regression Training MSE:  15.55514716244064\n",
      "Neural Network Training MSE:  15.76982611917567\n",
      "Linear Regression Test MSE:  22.096426119375554\n",
      "Neural Network Test MSE:  24.80017995540126\n"
     ]
    }
   ],
   "source": [
    "print(\"Linear Regression Training MSE: \", mean_squared_error(b_h_lr.predict(x_train), y_train))\n",
    "print(\"Neural Network Training MSE: \", mean_squared_error(b_h_model.predict(x_train), y_train))\n",
    "print(\"Linear Regression Test MSE: \", mean_squared_error(b_h_lr.predict(x_test), y_test))\n",
    "print(\"Neural Network Test MSE: \", mean_squared_error(b_h_model.predict(x_test), y_test))"
   ]
  },
  {
   "cell_type": "markdown",
   "metadata": {},
   "source": [
    "The regressor was able to improve on the training score, but not the test score. The Neural network, on the otherhand, improved both on the training and test scores."
   ]
  },
  {
   "cell_type": "markdown",
   "metadata": {
    "colab_type": "text",
    "id": "SfcFnOONyuNm"
   },
   "source": [
    "## Use the Keras Library to build an image recognition network using the Fashion-MNIST dataset (also comes with keras)\n",
    "\n",
    "- Load and preprocess the image data similar to how we preprocessed the MNIST data in class.\n",
    "- Make sure to one-hot encode your category labels\n",
    "- Make sure to have your final layer have as many nodes as the number of classes that you want to predict.\n",
    "- Try different hyperparameters. What is the highest accuracy that you are able to achieve.\n",
    "- Use the history object that is returned from model.fit to make graphs of the model's loss or train/validation accuracies by epoch. \n",
    "- Remember that neural networks fall prey to randomness so you may need to run your model multiple times (or use Cross Validation) in order to tell if a change to a hyperparameter is truly producing better results."
   ]
  },
  {
   "cell_type": "code",
   "execution_count": 113,
   "metadata": {
    "colab": {},
    "colab_type": "code",
    "id": "szi6-IpuzaH1"
   },
   "outputs": [],
   "source": [
    "from tensorflow.keras.datasets import fashion_mnist\n",
    "import keras\n",
    "\n",
    "(x_train_fm, y_train_fm), (x_test_fm, y_test_fm) = fashion_mnist.load_data()\n",
    "\n",
    "# Normalize data\n",
    "x_train_fm = x_train_fm / 255\n",
    "x_test_fm = x_test_fm / 255\n",
    "\n",
    "# Add dummy dimention to input\n",
    "x_train_fm = x_train_fm.reshape(-1, 28, 28, 1)\n",
    "x_test_fm = x_test_fm.reshape(-1, 28, 28, 1)\n",
    "\n",
    "# make outputs categorical\n",
    "y_train_fm = keras.utils.to_categorical(y_train_fm, 10)\n",
    "y_test_fm = keras.utils.to_categorical(y_test_fm, 10)"
   ]
  },
  {
   "cell_type": "markdown",
   "metadata": {},
   "source": [
    "Network description from Grenade documentation:\n",
    "\n",
    "```\n",
    "Network\n",
    "    '[ Convolution 1 10 5 5 1 1, Pooling 2 2 2 2, Relu\n",
    "     , Convolution 10 16 5 5 1 1, Pooling 2 2 2 2, FlattenLayer, Relu\n",
    "     , FullyConnected 256 80, Logit, FullyConnected 80 10, Logit]\n",
    "    '[ 'D2 28 28, 'D3 24 24 10, 'D3 12 12 10, 'D3 12 12 10\n",
    "     , 'D3 8 8 16, 'D3 4 4 16, 'D1 256, 'D1 256\n",
    "     , 'D1 80, 'D1 80, 'D1 10, 'D1 10]\n",
    "```"
   ]
  },
  {
   "cell_type": "code",
   "execution_count": 105,
   "metadata": {},
   "outputs": [],
   "source": [
    "from tensorflow.keras.layers import Conv2D, MaxPooling2D, Flatten, Activation"
   ]
  },
  {
   "cell_type": "code",
   "execution_count": 118,
   "metadata": {},
   "outputs": [
    {
     "name": "stdout",
     "output_type": "stream",
     "text": [
      "Model: \"sequential_18\"\n",
      "_________________________________________________________________\n",
      "Layer (type)                 Output Shape              Param #   \n",
      "=================================================================\n",
      "conv2d_18 (Conv2D)           (None, 24, 24, 10)        260       \n",
      "_________________________________________________________________\n",
      "max_pooling2d_14 (MaxPooling (None, 12, 12, 10)        0         \n",
      "_________________________________________________________________\n",
      "activation_6 (Activation)    (None, 12, 12, 10)        0         \n",
      "_________________________________________________________________\n",
      "conv2d_19 (Conv2D)           (None, 8, 8, 16)          4016      \n",
      "_________________________________________________________________\n",
      "max_pooling2d_15 (MaxPooling (None, 4, 4, 16)          0         \n",
      "_________________________________________________________________\n",
      "flatten_5 (Flatten)          (None, 256)               0         \n",
      "_________________________________________________________________\n",
      "activation_7 (Activation)    (None, 256)               0         \n",
      "_________________________________________________________________\n",
      "dense_35 (Dense)             (None, 256)               65792     \n",
      "_________________________________________________________________\n",
      "dense_36 (Dense)             (None, 80)                20560     \n",
      "_________________________________________________________________\n",
      "dense_37 (Dense)             (None, 10)                810       \n",
      "=================================================================\n",
      "Total params: 91,438\n",
      "Trainable params: 91,438\n",
      "Non-trainable params: 0\n",
      "_________________________________________________________________\n"
     ]
    }
   ],
   "source": [
    "fm_model = Sequential()\n",
    "\n",
    "fm_model.add(Conv2D(10, (5,5), input_shape=(28, 28, 1), strides=(1, 1)))\n",
    "\n",
    "fm_model.add(MaxPooling2D(pool_size=(2, 2), strides=(2, 2)))\n",
    "\n",
    "fm_model.add(Activation('relu'))\n",
    "\n",
    "fm_model.add(Conv2D(16, (5,5), strides=(1, 1)))\n",
    "\n",
    "fm_model.add(MaxPooling2D(pool_size=(2, 2), strides=(2, 2)))\n",
    "\n",
    "fm_model.add(Flatten())\n",
    "\n",
    "fm_model.add(Activation('relu'))\n",
    "\n",
    "fm_model.add(Dense(256, activation='softmax'))\n",
    "\n",
    "fm_model.add(Dense(80, activation='softmax'))\n",
    "\n",
    "fm_model.add(Dense(10, activation='softmax'))\n",
    "\n",
    "fm_model.compile(loss='categorical_crossentropy',\n",
    "                    optimizer='adam',\n",
    "                    metrics=['accuracy'])\n",
    "\n",
    "fm_model.summary()"
   ]
  },
  {
   "cell_type": "code",
   "execution_count": 119,
   "metadata": {},
   "outputs": [
    {
     "name": "stdout",
     "output_type": "stream",
     "text": [
      "Train on 60000 samples, validate on 10000 samples\n",
      "Epoch 1/30\n",
      "60000/60000 [==============================] - 22s 363us/sample - loss: 1.8032 - accuracy: 0.4278 - val_loss: 1.2475 - val_accuracy: 0.4800\n",
      "Epoch 2/30\n",
      "60000/60000 [==============================] - 24s 401us/sample - loss: 1.0844 - accuracy: 0.5217 - val_loss: 1.0055 - val_accuracy: 0.5525\n",
      "Epoch 3/30\n",
      "60000/60000 [==============================] - 26s 438us/sample - loss: 0.8471 - accuracy: 0.7071 - val_loss: 0.7227 - val_accuracy: 0.7646\n",
      "Epoch 4/30\n",
      "60000/60000 [==============================] - 23s 381us/sample - loss: 0.6210 - accuracy: 0.7927 - val_loss: 0.5752 - val_accuracy: 0.7994\n",
      "Epoch 5/30\n",
      "60000/60000 [==============================] - 21s 348us/sample - loss: 0.5298 - accuracy: 0.8128 - val_loss: 0.5283 - val_accuracy: 0.8096\n",
      "Epoch 6/30\n",
      "60000/60000 [==============================] - 21s 355us/sample - loss: 0.4861 - accuracy: 0.8267 - val_loss: 0.5005 - val_accuracy: 0.8189\n",
      "Epoch 7/30\n",
      "60000/60000 [==============================] - 21s 351us/sample - loss: 0.4492 - accuracy: 0.8431 - val_loss: 0.4749 - val_accuracy: 0.8404\n",
      "Epoch 8/30\n",
      "60000/60000 [==============================] - 21s 347us/sample - loss: 0.4111 - accuracy: 0.8623 - val_loss: 0.4288 - val_accuracy: 0.8586\n",
      "Epoch 9/30\n",
      "60000/60000 [==============================] - 21s 357us/sample - loss: 0.3736 - accuracy: 0.8749 - val_loss: 0.4029 - val_accuracy: 0.8636\n",
      "Epoch 10/30\n",
      "60000/60000 [==============================] - 21s 357us/sample - loss: 0.3474 - accuracy: 0.8827 - val_loss: 0.3957 - val_accuracy: 0.8668\n",
      "Epoch 11/30\n",
      "60000/60000 [==============================] - 22s 372us/sample - loss: 0.3320 - accuracy: 0.8880 - val_loss: 0.3734 - val_accuracy: 0.8720\n",
      "Epoch 12/30\n",
      "60000/60000 [==============================] - 22s 372us/sample - loss: 0.3181 - accuracy: 0.8916 - val_loss: 0.3881 - val_accuracy: 0.8673\n",
      "Epoch 13/30\n",
      "60000/60000 [==============================] - 23s 375us/sample - loss: 0.3073 - accuracy: 0.8953 - val_loss: 0.3719 - val_accuracy: 0.8723\n",
      "Epoch 14/30\n",
      "60000/60000 [==============================] - 23s 386us/sample - loss: 0.2981 - accuracy: 0.8973 - val_loss: 0.3506 - val_accuracy: 0.8843\n",
      "Epoch 15/30\n",
      "60000/60000 [==============================] - 23s 378us/sample - loss: 0.2880 - accuracy: 0.9006 - val_loss: 0.3608 - val_accuracy: 0.8764\n",
      "Epoch 16/30\n",
      "60000/60000 [==============================] - 22s 361us/sample - loss: 0.2773 - accuracy: 0.9043 - val_loss: 0.3357 - val_accuracy: 0.8838\n",
      "Epoch 17/30\n",
      "60000/60000 [==============================] - 23s 390us/sample - loss: 0.2697 - accuracy: 0.9050 - val_loss: 0.3335 - val_accuracy: 0.8886\n",
      "Epoch 18/30\n",
      "60000/60000 [==============================] - 23s 392us/sample - loss: 0.2618 - accuracy: 0.9082 - val_loss: 0.3379 - val_accuracy: 0.8835\n",
      "Epoch 19/30\n",
      "60000/60000 [==============================] - 22s 369us/sample - loss: 0.2562 - accuracy: 0.9103 - val_loss: 0.3401 - val_accuracy: 0.8834\n",
      "Epoch 20/30\n",
      "60000/60000 [==============================] - 22s 367us/sample - loss: 0.2497 - accuracy: 0.9123 - val_loss: 0.3474 - val_accuracy: 0.8838\n",
      "Epoch 21/30\n",
      "60000/60000 [==============================] - 23s 375us/sample - loss: 0.2450 - accuracy: 0.9131 - val_loss: 0.3373 - val_accuracy: 0.8861\n",
      "Epoch 22/30\n",
      "60000/60000 [==============================] - 23s 387us/sample - loss: 0.2392 - accuracy: 0.9156 - val_loss: 0.3430 - val_accuracy: 0.8851\n",
      "Epoch 23/30\n",
      "60000/60000 [==============================] - 23s 375us/sample - loss: 0.2354 - accuracy: 0.9160 - val_loss: 0.3385 - val_accuracy: 0.8824\n",
      "Epoch 24/30\n",
      "60000/60000 [==============================] - 23s 386us/sample - loss: 0.2321 - accuracy: 0.9182 - val_loss: 0.3537 - val_accuracy: 0.8843\n",
      "Epoch 25/30\n",
      "60000/60000 [==============================] - 23s 388us/sample - loss: 0.2281 - accuracy: 0.9182 - val_loss: 0.3227 - val_accuracy: 0.8896\n",
      "Epoch 26/30\n",
      "60000/60000 [==============================] - 24s 398us/sample - loss: 0.2244 - accuracy: 0.9204 - val_loss: 0.3362 - val_accuracy: 0.8855\n",
      "Epoch 27/30\n",
      "60000/60000 [==============================] - 23s 387us/sample - loss: 0.2227 - accuracy: 0.9206 - val_loss: 0.3534 - val_accuracy: 0.8850\n",
      "Epoch 28/30\n",
      "60000/60000 [==============================] - 23s 388us/sample - loss: 0.2190 - accuracy: 0.9223 - val_loss: 0.3330 - val_accuracy: 0.8910\n",
      "Epoch 29/30\n",
      "60000/60000 [==============================] - 23s 383us/sample - loss: 0.2175 - accuracy: 0.9222 - val_loss: 0.3423 - val_accuracy: 0.8860\n",
      "Epoch 30/30\n",
      "60000/60000 [==============================] - 23s 378us/sample - loss: 0.2147 - accuracy: 0.9244 - val_loss: 0.3319 - val_accuracy: 0.8904\n"
     ]
    }
   ],
   "source": [
    "hist = fm_model.fit(x_train_fm, y_train_fm, epochs=30, validation_split=0, validation_data=(x_test_fm, y_test_fm))"
   ]
  },
  {
   "cell_type": "code",
   "execution_count": 169,
   "metadata": {},
   "outputs": [
    {
     "data": {
      "image/png": "[encoded data removed]",
      "text/plain": [
       "<Figure size 432x288 with 1 Axes>"
      ]
     },
     "metadata": {
      "needs_background": "light"
     },
     "output_type": "display_data"
    },
    {
     "data": {
      "image/png": "[encoded data removed]",
      "text/plain": [
       "<Figure size 432x288 with 1 Axes>"
      ]
     },
     "metadata": {
      "needs_background": "light"
     },
     "output_type": "display_data"
    }
   ],
   "source": [
    "ys = hist.history['loss']\n",
    "xs = range(len(ys))\n",
    "plt.plot(xs, ys, label='Training Crossentropy')\n",
    "\n",
    "ys = hist.history['val_loss']\n",
    "plt.plot(xs, ys, label='Validation Crossentropy')\n",
    "\n",
    "plt.legend(loc='upper right')\n",
    "\n",
    "plt.title(\"Loss vs epoch\")\n",
    "plt.show()\n",
    "\n",
    "\n",
    "ys = hist.history['accuracy']\n",
    "plt.plot(xs, ys, label='Training Accuracy')\n",
    "\n",
    "ys = hist.history['val_accuracy']\n",
    "plt.plot(xs, ys, label='Validation Accuracy')\n",
    "\n",
    "plt.legend(loc='lower right')\n",
    "\n",
    "plt.title(\"Accuracy vs epoch\")\n",
    "plt.show()"
   ]
  },
  {
   "cell_type": "markdown",
   "metadata": {
    "colab_type": "text",
    "id": "zv_3xNMjzdLI"
   },
   "source": [
    "## Stretch Goals:\n",
    "\n",
    "- Use Hyperparameter Tuning to make the accuracy of your models as high as possible. (error as low as possible)\n",
    "- Use Cross Validation techniques to get more consistent results with your model.\n",
    "- Use GridSearchCV to try different combinations of hyperparameters. \n",
    "- Start looking into other types of Keras layers for CNNs and RNNs maybe try and build a CNN model for fashion-MNIST to see how the results compare."
   ]
  }
 ],
 "metadata": {
  "colab": {
   "name": "LS_DS_433_Keras_Assignment.ipynb",
   "provenance": [],
   "version": "0.3.2"
  },
  "kernelspec": {
   "display_name": "Python 3",
   "language": "python",
   "name": "python3"
  },
  "language_info": {
   "codemirror_mode": {
    "name": "ipython",
    "version": 3
   },
   "file_extension": ".py",
   "mimetype": "text/x-python",
   "name": "python",
   "nbconvert_exporter": "python",
   "pygments_lexer": "ipython3",
   "version": "3.7.4"
  }
 },
 "nbformat": 4,
 "nbformat_minor": 4
}
